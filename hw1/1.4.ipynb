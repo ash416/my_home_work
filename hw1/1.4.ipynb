{
 "cells": [
  {
   "cell_type": "markdown",
   "metadata": {
    "collapsed": true
   },
   "source": [
    "# Задача 1."
   ]
  },
  {
   "cell_type": "markdown",
   "metadata": {},
   "source": [
    "$ln\\prod_{k=1}^nP(x^{(k)}|y) = \\sum_{k=1}^n ln P(x^{(k)}|y) = \\sum_{k=1}^n ln \\frac{1}{\\sqrt{2\\pi\\sigma^2}}-\\sum_{k=1}^n\\frac{(x^{(k)}-\\mu_{yk})^2}{2\\sigma^2}=-n ln\\sqrt{2\\pi\\sigma^2}-\\sum_{k=1}^n\\frac{(x^{(k)}-\\mu_{yk})^2}{2\\sigma^2}=-const_1-\\frac{\\rho^2}{const_2}$"
   ]
  },
  {
   "cell_type": "markdown",
   "metadata": {},
   "source": [
    "$\\rho$ расстояние от центра класса y до объекта x"
   ]
  },
  {
   "cell_type": "markdown",
   "metadata": {},
   "source": [
    "Видим, что вероятность попадания в класс увеличивается, при уменьшении $\\rho$"
   ]
  },
  {
   "cell_type": "markdown",
   "metadata": {},
   "source": [
    "# Задача 2."
   ]
  },
  {
   "cell_type": "code",
   "execution_count": 10,
   "metadata": {
    "collapsed": false
   },
   "outputs": [
    {
     "name": "stdout",
     "output_type": "stream",
     "text": [
      "Populating the interactive namespace from numpy and matplotlib\n"
     ]
    }
   ],
   "source": [
    "import matplotlib.pyplot as plt\n",
    "%pylab inline \n",
    "import numpy as np"
   ]
  },
  {
   "cell_type": "code",
   "execution_count": 15,
   "metadata": {
    "collapsed": false
   },
   "outputs": [],
   "source": [
    "x_1 = np.linspace(0, 0.4, 100)\n",
    "x_2 = np.linspace(0.4, 1, 100)\n",
    "y_1 = []\n",
    "y_2 = []\n",
    "for i in range(100):\n",
    "    y_1.append(x_1[i] * 2)\n",
    "for i in range(100):\n",
    "    y_2.append(x_2[i] * 1 / 3 + 0.80 - 0.40 * 1 / 3)"
   ]
  },
  {
   "cell_type": "code",
   "execution_count": 17,
   "metadata": {
    "collapsed": false
   },
   "outputs": [
    {
     "name": "stdout",
     "output_type": "stream",
     "text": [
      "100 100\n"
     ]
    },
    {
     "data": {
      "image/png": "[encoded data removed]",
      "text/plain": [
       "<matplotlib.figure.Figure at 0x7fd78e509b38>"
      ]
     },
     "metadata": {},
     "output_type": "display_data"
    }
   ],
   "source": [
    "print(len(x_1), len(y_1))\n",
    "plt.plot(x_1, y_1, \"r\")\n",
    "plt.plot(x_2, y_2, \"r\")\n",
    "plt.show()"
   ]
  },
  {
   "cell_type": "markdown",
   "metadata": {},
   "source": [
    "Пусть точка излома (x, y)"
   ]
  },
  {
   "cell_type": "markdown",
   "metadata": {},
   "source": [
    "Площадь под фигурой равна площади треугольника и трапеции"
   ]
  },
  {
   "cell_type": "markdown",
   "metadata": {},
   "source": [
    "$S = \\frac{1}{2} x y + \\frac{1}{2}(1-x)(1+y)$"
   ]
  },
  {
   "cell_type": "markdown",
   "metadata": {},
   "source": [
    "$E(x)=\\frac{E(FP)n_1}{n_1}=\\frac{n_1 p}{n_1}=p$, где $n_1$число элементов первого класса"
   ]
  },
  {
   "cell_type": "markdown",
   "metadata": {},
   "source": [
    "$E(y)=\\frac{E(TP)n_2}{n_2}=\\frac{n_2 p}{n_2}=p$, где $n_2$число элементов второго класса"
   ]
  },
  {
   "cell_type": "markdown",
   "metadata": {},
   "source": [
    "Тогда $E(S) = \\frac{1}{2}p^2+\\frac{1}{2}(1-p)(1+p)=\\frac{1}{2}$"
   ]
  }
 ],
 "metadata": {
  "kernelspec": {
   "display_name": "Python 3",
   "language": "python",
   "name": "python3"
  },
  "language_info": {
   "codemirror_mode": {
    "name": "ipython",
    "version": 3
   },
   "file_extension": ".py",
   "mimetype": "text/x-python",
   "name": "python",
   "nbconvert_exporter": "python",
   "pygments_lexer": "ipython3",
   "version": "3.5.1"
  }
 },
 "nbformat": 4,
 "nbformat_minor": 0
}
